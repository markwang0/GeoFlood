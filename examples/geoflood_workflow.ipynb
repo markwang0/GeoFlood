{
  "cells": [
    {
      "cell_type": "markdown",
      "metadata": {
        "colab_type": "text",
        "id": "view-in-github"
      },
      "source": [
        "<a href=\"https://colab.research.google.com/github/markwang0/GeoFlood/blob/WIP-pygeoflood-class/examples/geoflood_workflow.ipynb\" target=\"_parent\"><img src=\"https://colab.research.google.com/assets/colab-badge.svg\" alt=\"Open In Colab\"/></a>\n"
      ]
    },
    {
      "cell_type": "markdown",
      "metadata": {
        "id": "XLAMdHHaIKmK"
      },
      "source": [
        "### Install in-development branch of GeoFlood\n"
      ]
    },
    {
      "cell_type": "code",
      "execution_count": 1,
      "metadata": {
        "id": "ceL8_amKGc0C"
      },
      "outputs": [],
      "source": [
        "%%capture\n",
        "\n",
        "inColab = 'google.colab' in str(get_ipython())\n",
        "if inColab:\n",
        "    %pip install -e git+https://github.com/markwang0/geoflood@WIP-pygeoflood-class\n",
        "else:\n",
        "    %pip install -e ..\n",
        "    pass\n"
      ]
    },
    {
      "cell_type": "markdown",
      "metadata": {
        "id": "Bs031yHfIwQK"
      },
      "source": [
        "### Run GeoFlood operations\n"
      ]
    },
    {
      "cell_type": "code",
      "execution_count": 5,
      "metadata": {},
      "outputs": [
        {
          "name": "stdout",
          "output_type": "stream",
          "text": [
            "PyGeoFlood(\n",
            "    dem_path=\"data/OC1mTest.tif\"\n",
            "    project_dir=\"data\"\n",
            ")\n"
          ]
        }
      ],
      "source": [
        "from pathlib import Path\n",
        "from pygeoflood import PyGeoFlood\n",
        "\n",
        "data_dir = Path(\"data\")\n",
        "if not data_dir.is_dir():\n",
        "    data_dir.mkdir()\n",
        "my_dem_path = Path(data_dir, \"OC1mTest.tif\")\n",
        "# download DEM if it doesn't exist\n",
        "if not my_dem_path.is_file():\n",
        "    !curl https://utexas.box.com/shared/static/id0in7w8yn38o59sexa50aqunsr7mzk0.tif -Lso data/OC1mTest.tif\n",
        "\n",
        "geoflood_onion = PyGeoFlood(dem_path=my_dem_path)\n",
        "print(geoflood_onion)\n"
      ]
    },
    {
      "cell_type": "code",
      "execution_count": 6,
      "metadata": {},
      "outputs": [
        {
          "name": "stdout",
          "output_type": "stream",
          "text": [
            "Computing slope of raw DTM\n",
            "DEM slope array shape: (3378, 4750)\n",
            "Computing lambda = q-q-based nonlinear filtering threshold\n",
            "DEM smoothing Quantile: 0.9\n",
            "Edge Threshold Value: 0.34356024861335754\n",
            "Filtered DEM written to data/OC1mTest_filtered.tif\n",
            "nonlinear_filter completed in 12.9517 seconds\n",
            "\n",
            "PyGeoFlood(\n",
            "    dem_path=\"data/OC1mTest.tif\"\n",
            "    project_dir=\"data\"\n",
            "    filtered_dem_path=\"data/OC1mTest_filtered.tif\"\n",
            ")\n"
          ]
        }
      ],
      "source": [
        "# Perona-Malik filtered DEM saved as\n",
        "# [DEM_name]_PM_filtered.tif\n",
        "# in same directory as the original DEM\n",
        "geoflood_onion.nonlinear_filter()\n",
        "print()\n",
        "print(geoflood_onion)"
      ]
    },
    {
      "cell_type": "code",
      "execution_count": 7,
      "metadata": {},
      "outputs": [
        {
          "name": "stdout",
          "output_type": "stream",
          "text": [
            "Computing slope\n",
            " slope statistics\n",
            " angle min: 0.0\n",
            " angle max: 54.863846043721324\n",
            " mean slope: 0.13960592\n",
            " stdev slope: 0.15432632\n",
            "Slope raster written to data/OC1mTest_slope.tif\n",
            "Computing curvature\n",
            " using geometric curvature\n",
            " curvature statistics\n",
            " non-nan curvature cell number: 16045500\n",
            " non-nan finite curvature cell number:  mean:  -0.00031314598\n",
            " standard deviation:  0.112147875\n",
            "Curvature raster written to data/OC1mTest_curvature.tif\n",
            "slope_curvature completed in 2.4611 seconds\n",
            "\n",
            "PyGeoFlood(\n",
            "    dem_path=\"data/OC1mTest.tif\"\n",
            "    project_dir=\"data\"\n",
            "    filtered_dem_path=\"data/OC1mTest_filtered.tif\"\n",
            "    slope_path=\"data/OC1mTest_slope.tif\"\n",
            "    curvature_path=\"data/OC1mTest_curvature.tif\"\n",
            ")\n"
          ]
        }
      ],
      "source": [
        "# calculate slope and curvature\n",
        "geoflood_onion.slope_curvature()\n",
        "print()\n",
        "print(geoflood_onion)"
      ]
    },
    {
      "cell_type": "code",
      "execution_count": null,
      "metadata": {},
      "outputs": [],
      "source": []
    }
  ],
  "metadata": {
    "colab": {
      "authorship_tag": "ABX9TyMNCi84+7QiD4ra1kbkEbpz",
      "include_colab_link": true,
      "provenance": []
    },
    "kernelspec": {
      "display_name": "Python 3",
      "name": "python3"
    },
    "language_info": {
      "codemirror_mode": {
        "name": "ipython",
        "version": 3
      },
      "file_extension": ".py",
      "mimetype": "text/x-python",
      "name": "python",
      "nbconvert_exporter": "python",
      "pygments_lexer": "ipython3",
      "version": "3.11.8"
    }
  },
  "nbformat": 4,
  "nbformat_minor": 0
}
