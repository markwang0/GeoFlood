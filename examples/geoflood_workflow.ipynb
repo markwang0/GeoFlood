{
  "cells": [
    {
      "cell_type": "markdown",
      "metadata": {
        "colab_type": "text",
        "id": "view-in-github"
      },
      "source": [
        "<a href=\"https://colab.research.google.com/github/markwang0/GeoFlood/blob/WIP-pygeoflood-class/examples/geoflood_workflow.ipynb\" target=\"_parent\"><img src=\"https://colab.research.google.com/assets/colab-badge.svg\" alt=\"Open In Colab\"/></a>\n"
      ]
    },
    {
      "cell_type": "markdown",
      "metadata": {
        "id": "XLAMdHHaIKmK"
      },
      "source": [
        "### Install in-development branch of GeoFlood\n"
      ]
    },
    {
      "cell_type": "code",
      "execution_count": 1,
      "metadata": {
        "id": "ceL8_amKGc0C"
      },
      "outputs": [],
      "source": [
        "%%capture\n",
        "\n",
        "inColab = 'google.colab' in str(get_ipython())\n",
        "if inColab:\n",
        "    %pip install git+https://github.com/markwang0/geoflood@WIP-pygeoflood-class#egg=pygeoflood\n",
        "else:\n",
        "    %pip install -e ..\n",
        "    pass\n"
      ]
    },
    {
      "cell_type": "markdown",
      "metadata": {
        "id": "Bs031yHfIwQK"
      },
      "source": [
        "### Run GeoFlood operations\n"
      ]
    },
    {
      "cell_type": "code",
      "execution_count": 1,
      "metadata": {},
      "outputs": [
        {
          "name": "stdout",
          "output_type": "stream",
          "text": [
            "PyGeoFlood(\n",
            "    dem_path=\"data/OC1mTest.tif\",\n",
            "    project_dir=\"data\",\n",
            ")\n"
          ]
        }
      ],
      "source": [
        "from pathlib import Path\n",
        "from pygeoflood import PyGeoFlood\n",
        "\n",
        "data_dir = Path(\"data\")\n",
        "if not data_dir.is_dir():\n",
        "    data_dir.mkdir()\n",
        "my_dem_path = Path(data_dir, \"OC1mTest.tif\")\n",
        "# download DEM if it doesn't exist\n",
        "if not my_dem_path.is_file():\n",
        "    !curl https://utexas.box.com/shared/static/id0in7w8yn38o59sexa50aqunsr7mzk0.tif -Lso data/OC1mTest.tif\n",
        "\n",
        "geoflood_onion = PyGeoFlood(dem_path=my_dem_path)\n",
        "print(geoflood_onion)\n"
      ]
    },
    {
      "cell_type": "code",
      "execution_count": 2,
      "metadata": {},
      "outputs": [
        {
          "name": "stdout",
          "output_type": "stream",
          "text": [
            "Computing slope of raw DTM\n",
            "DEM slope array shape: (3378, 4750)\n",
            "Computing lambda = q-q-based nonlinear filtering threshold\n",
            "DEM smoothing Quantile: 0.9\n",
            "Edge Threshold Value: 0.34356024861335754\n",
            "Filtered DEM written to data/OC1mTest_filtered.tif\n",
            "nonlinear_filter completed in 9.0125 seconds\n"
          ]
        }
      ],
      "source": [
        "# apply nonlinear filter to DEM\n",
        "geoflood_onion.nonlinear_filter()"
      ]
    },
    {
      "cell_type": "code",
      "execution_count": 3,
      "metadata": {},
      "outputs": [
        {
          "name": "stdout",
          "output_type": "stream",
          "text": [
            " slope statistics\n",
            " angle min: 0.0\n",
            " angle max: 54.863846043721324\n",
            " mean slope: 0.13960592\n",
            " stdev slope: 0.15432632\n",
            "Slope raster written to data/OC1mTest_slope.tif\n",
            "slope completed in 1.2151 seconds\n"
          ]
        }
      ],
      "source": [
        "# calculate slope\n",
        "geoflood_onion.slope()"
      ]
    },
    {
      "cell_type": "code",
      "execution_count": 4,
      "metadata": {},
      "outputs": [
        {
          "name": "stdout",
          "output_type": "stream",
          "text": [
            " using geometric curvature\n",
            " curvature statistics\n",
            " non-nan curvature cell number: 16045500\n",
            " non-nan finite curvature cell number:  mean:  -0.00031314598\n",
            " standard deviation:  0.112147875\n",
            "Curvature raster written to data/OC1mTest_curvature.tif\n",
            "curvature completed in 1.1349 seconds\n"
          ]
        }
      ],
      "source": [
        "# calculate curvature\n",
        "geoflood_onion.curvature()"
      ]
    },
    {
      "cell_type": "code",
      "execution_count": 5,
      "metadata": {},
      "outputs": [
        {
          "name": "stdout",
          "output_type": "stream",
          "text": [
            "Filled DEM written to data/OC1mTest_filled.tif\n",
            "fill_depressions completed in 7.4121 seconds\n"
          ]
        }
      ],
      "source": [
        "# fill depressions on filtered DEM\n",
        "geoflood_onion.fill_depressions()"
      ]
    },
    {
      "cell_type": "code",
      "execution_count": 6,
      "metadata": {},
      "outputs": [
        {
          "name": "stdout",
          "output_type": "stream",
          "text": [
            "MFD flow accumulation raster written to data/OC1mTest_mfd_fac.tif\n",
            "mfd_flow_accumulation completed in 4.3859 seconds\n"
          ]
        }
      ],
      "source": [
        "# calculate MFD flow accumulation\n",
        "geoflood_onion.mfd_flow_accumulation()"
      ]
    },
    {
      "cell_type": "code",
      "execution_count": 7,
      "metadata": {},
      "outputs": [
        {
          "name": "stdout",
          "output_type": "stream",
          "text": [
            "D8 flow direction raster written to data/OC1mTest_d8_fdr.tif\n",
            "d8_flow_direction completed in 1.6596 seconds\n"
          ]
        }
      ],
      "source": [
        "# calculate D8 flow directions\n",
        "geoflood_onion.d8_flow_direction()"
      ]
    },
    {
      "cell_type": "code",
      "execution_count": 8,
      "metadata": {},
      "outputs": [
        {
          "name": "stdout",
          "output_type": "stream",
          "text": [
            "Outlets raster written to data/OC1mTest_outlets.tif\n",
            "outlets completed in 0.2105 seconds\n"
          ]
        }
      ],
      "source": [
        "# calculate outlets\n",
        "geoflood_onion.outlets()"
      ]
    },
    {
      "cell_type": "code",
      "execution_count": 9,
      "metadata": {},
      "outputs": [
        {
          "name": "stdout",
          "output_type": "stream",
          "text": [
            "Basins raster written to data/OC1mTest_basins.tif\n",
            "basins completed in 0.9697 seconds\n"
          ]
        }
      ],
      "source": [
        "# delineate basins\n",
        "geoflood_onion.basins()"
      ]
    },
    {
      "cell_type": "code",
      "execution_count": 10,
      "metadata": {},
      "outputs": [
        {
          "name": "stdout",
          "output_type": "stream",
          "text": [
            "Curvature mean:  -0.00031413726\n",
            "Curvature standard deviation:  0.11232527\n",
            "Curvature Projection: EPSG:6343\n",
            "Mean upstream flow:  2617.3135\n",
            "Flow skeleton written to data/OC1mTest_flow_skeleton.tif\n",
            "Curvature skeleton written to data/OC1mTest_curvature_skeleton.tif\n",
            "Combined skeleton written to data/OC1mTest_combined_skeleton.tif\n",
            "skeleton_definition completed in 1.0653 seconds\n"
          ]
        }
      ],
      "source": [
        "# define skeletons\n",
        "geoflood_onion.skeleton_definition(\n",
        "    write_curvature_skeleton=True,\n",
        "    write_flow_skeleton=True,\n",
        ")"
      ]
    },
    {
      "cell_type": "code",
      "execution_count": 11,
      "metadata": {},
      "outputs": [
        {
          "name": "stdout",
          "output_type": "stream",
          "text": [
            "Performing fast marching\n",
            "FMM 1/32: RAM usage: 10.36/16 GB (64.8%)\n",
            "FMM 2/32: RAM usage: 10.29/16 GB (64.3%)\n",
            "FMM 3/32: RAM usage: 10.26/16 GB (64.1%)\n",
            "FMM 4/32: RAM usage: 10.27/16 GB (64.2%)\n",
            "FMM 5/32: RAM usage: 10.27/16 GB (64.2%)\n",
            "FMM 6/32: RAM usage: 10.26/16 GB (64.1%)\n",
            "FMM 7/32: RAM usage: 10.26/16 GB (64.1%)\n",
            "FMM 8/32: RAM usage: 10.26/16 GB (64.1%)\n",
            "FMM 9/32: RAM usage: 10.26/16 GB (64.1%)\n",
            "FMM 10/32: RAM usage: 10.26/16 GB (64.1%)\n",
            "FMM 11/32: RAM usage: 10.27/16 GB (64.2%)\n",
            "FMM 12/32: RAM usage: 10.27/16 GB (64.2%)\n",
            "FMM 13/32: RAM usage: 10.31/16 GB (64.4%)\n",
            "FMM 14/32: RAM usage: 10.32/16 GB (64.5%)\n",
            "FMM 15/32: RAM usage: 10.31/16 GB (64.5%)\n",
            "FMM 16/32: RAM usage: 10.32/16 GB (64.5%)\n",
            "FMM 17/32: RAM usage: 10.32/16 GB (64.5%)\n",
            "FMM 18/32: RAM usage: 10.32/16 GB (64.5%)\n",
            "FMM 19/32: RAM usage: 10.32/16 GB (64.5%)\n",
            "FMM 20/32: RAM usage: 10.31/16 GB (64.5%)\n",
            "FMM 21/32: RAM usage: 10.31/16 GB (64.4%)\n",
            "FMM 22/32: RAM usage: 10.29/16 GB (64.3%)\n",
            "FMM 23/32: RAM usage: 10.33/16 GB (64.6%)\n",
            "FMM 24/32: RAM usage: 10.33/16 GB (64.6%)\n",
            "FMM 25/32: RAM usage: 10.33/16 GB (64.6%)\n",
            "FMM 26/32: RAM usage: 10.32/16 GB (64.5%)\n",
            "FMM 27/32: RAM usage: 10.26/16 GB (64.1%)\n",
            "FMM 28/32: RAM usage: 10.23/16 GB (63.9%)\n",
            "FMM 29/32: RAM usage: 10.23/16 GB (63.9%)\n",
            "FMM 30/32: RAM usage: 10.23/16 GB (63.9%)\n",
            "FMM 31/32: RAM usage: 10.23/16 GB (63.9%)\n",
            "FMM 32/32: RAM usage: 10.21/16 GB (63.8%)\n",
            "Cost function written to data/OC1mTest_cost_function.tif\n",
            "Geodesic distance raster written to data/OC1mTest_geodesic_distance.tif\n",
            "geodesic_distance completed in 17.6207 seconds\n"
          ]
        }
      ],
      "source": [
        "# geodesic distance (not needed for GeoFlood workflow)\n",
        "geoflood_onion.geodesic_distance(write_cost_function=True)"
      ]
    },
    {
      "cell_type": "code",
      "execution_count": 12,
      "metadata": {},
      "outputs": [
        {
          "name": "stdout",
          "output_type": "stream",
          "text": [
            "Locating skeleton end points\n",
            "Counting the number of elements of each connected component\n",
            "Skeleton region size threshold: 258.7368421052632\n",
            "Continuing to locate skeleton endpoints\n",
            "Channel heads shapefile written to data/OC1mTest_channel_heads.shp\n",
            "channel_heads completed in 2.4273 seconds\n"
          ]
        }
      ],
      "source": [
        "# get channel heads\n",
        "geoflood_onion.channel_heads()"
      ]
    },
    {
      "cell_type": "code",
      "execution_count": 13,
      "metadata": {},
      "outputs": [
        {
          "name": "stdout",
          "output_type": "stream",
          "text": [
            "Endpoints csv written to data/OC1mTest_endpoints.csv\n",
            "endpoints completed in 0.0312 seconds\n"
          ]
        }
      ],
      "source": [
        "# set path to NFIE (NHD MR) flowline\n",
        "# download here: https://www.arcgis.com/home/webmap/viewer.html?webmap=9766a82973b34f18b43dafa20c5ef535\n",
        "geoflood_onion.flowline_path = Path(data_dir, \"Flowline.shp\")\n",
        "# get flowline endpoints\n",
        "geoflood_onion.endpoints()"
      ]
    },
    {
      "cell_type": "code",
      "execution_count": 14,
      "metadata": {},
      "outputs": [
        {
          "data": {
            "text/plain": [
              "PyGeoFlood(\n",
              "    dem_path=\"data/OC1mTest.tif\",\n",
              "    project_dir=\"data\",\n",
              "    filtered_dem_path=\"data/OC1mTest_filtered.tif\",\n",
              "    slope_path=\"data/OC1mTest_slope.tif\",\n",
              "    curvature_path=\"data/OC1mTest_curvature.tif\",\n",
              "    filled_path=\"data/OC1mTest_filled.tif\",\n",
              "    mfd_fac_path=\"data/OC1mTest_mfd_fac.tif\",\n",
              "    d8_fdr_path=\"data/OC1mTest_d8_fdr.tif\",\n",
              "    basins_path=\"data/OC1mTest_basins.tif\",\n",
              "    outlets_path=\"data/OC1mTest_outlets.tif\",\n",
              "    flow_skeleton_path=\"data/OC1mTest_flow_skeleton.tif\",\n",
              "    curvature_skeleton_path=\"data/OC1mTest_curvature_skeleton.tif\",\n",
              "    combined_skeleton_path=\"data/OC1mTest_combined_skeleton.tif\",\n",
              "    cost_function_path=\"data/OC1mTest_cost_function.tif\",\n",
              "    geodesic_distance_path=\"data/OC1mTest_geodesic_distance.tif\",\n",
              "    channel_heads_path=\"data/OC1mTest_channel_heads.shp\",\n",
              "    flowline_path=\"data/Flowline.shp\",\n",
              "    endpoints_path=\"data/OC1mTest_endpoints.csv\",\n",
              ")"
            ]
          },
          "execution_count": 14,
          "metadata": {},
          "output_type": "execute_result"
        }
      ],
      "source": [
        "geoflood_onion"
      ]
    }
  ],
  "metadata": {
    "colab": {
      "authorship_tag": "ABX9TyMNCi84+7QiD4ra1kbkEbpz",
      "include_colab_link": true,
      "provenance": []
    },
    "kernelspec": {
      "display_name": "Python 3",
      "name": "python3"
    },
    "language_info": {
      "codemirror_mode": {
        "name": "ipython",
        "version": 3
      },
      "file_extension": ".py",
      "mimetype": "text/x-python",
      "name": "python",
      "nbconvert_exporter": "python",
      "pygments_lexer": "ipython3",
      "version": "3.11.8"
    }
  },
  "nbformat": 4,
  "nbformat_minor": 0
}
