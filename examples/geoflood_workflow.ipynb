{
  "cells": [
    {
      "cell_type": "markdown",
      "metadata": {
        "colab_type": "text",
        "id": "view-in-github"
      },
      "source": [
        "<a href=\"https://colab.research.google.com/github/markwang0/GeoFlood/blob/WIP-pygeoflood-class/examples/geoflood_workflow.ipynb\" target=\"_parent\"><img src=\"https://colab.research.google.com/assets/colab-badge.svg\" alt=\"Open In Colab\"/></a>\n"
      ]
    },
    {
      "cell_type": "markdown",
      "metadata": {
        "id": "XLAMdHHaIKmK"
      },
      "source": [
        "### Install in-development branch of GeoFlood\n"
      ]
    },
    {
      "cell_type": "code",
      "execution_count": 1,
      "metadata": {
        "id": "ceL8_amKGc0C"
      },
      "outputs": [],
      "source": [
        "%%capture\n",
        "\n",
        "inColab = 'google.colab' in str(get_ipython())\n",
        "if inColab:\n",
        "    %pip install git+https://github.com/markwang0/geoflood@WIP-pygeoflood-class#egg=pygeoflood\n",
        "else:\n",
        "    %pip install -e ..\n",
        "    pass\n"
      ]
    },
    {
      "cell_type": "markdown",
      "metadata": {
        "id": "Bs031yHfIwQK"
      },
      "source": [
        "### Run GeoFlood operations\n"
      ]
    },
    {
      "cell_type": "code",
      "execution_count": 2,
      "metadata": {},
      "outputs": [
        {
          "name": "stdout",
          "output_type": "stream",
          "text": [
            "PyGeoFlood(\n",
            "    dem_path=\"data/OC1mTest.tif\",\n",
            "    project_dir=\"data\",\n",
            ")\n"
          ]
        }
      ],
      "source": [
        "from pathlib import Path\n",
        "from pygeoflood import PyGeoFlood\n",
        "\n",
        "data_dir = Path(\"data\")\n",
        "if not data_dir.is_dir():\n",
        "    data_dir.mkdir()\n",
        "my_dem_path = Path(data_dir, \"OC1mTest.tif\")\n",
        "# download DEM if it doesn't exist\n",
        "if not my_dem_path.is_file():\n",
        "    !curl https://utexas.box.com/shared/static/id0in7w8yn38o59sexa50aqunsr7mzk0.tif -Lso data/OC1mTest.tif\n",
        "\n",
        "geoflood_onion = PyGeoFlood(dem_path=my_dem_path)\n",
        "print(geoflood_onion)\n"
      ]
    },
    {
      "cell_type": "code",
      "execution_count": 3,
      "metadata": {},
      "outputs": [
        {
          "name": "stdout",
          "output_type": "stream",
          "text": [
            "Computing slope of raw DTM\n",
            "DEM slope array shape: (3378, 4750)\n",
            "Computing lambda = q-q-based nonlinear filtering threshold\n",
            "DEM smoothing Quantile: 0.9\n",
            "Edge Threshold Value: 0.34356024861335754\n",
            "Filtered DEM written to data/OC1mTest_filtered.tif\n",
            "\n",
            "apply_nonlinear_filter completed in 9.8020 seconds\n"
          ]
        }
      ],
      "source": [
        "# apply nonlinear filter to DEM\n",
        "geoflood_onion.apply_nonlinear_filter()"
      ]
    },
    {
      "cell_type": "code",
      "execution_count": 4,
      "metadata": {},
      "outputs": [
        {
          "name": "stdout",
          "output_type": "stream",
          "text": [
            " slope statistics\n",
            " angle min: 0.0\n",
            " angle max: 54.863846043721324\n",
            " mean slope: 0.13960592\n",
            " stdev slope: 0.15432632\n",
            "Slope raster written to data/OC1mTest_slope.tif\n",
            "\n",
            "calculate_slope completed in 1.2548 seconds\n"
          ]
        }
      ],
      "source": [
        "# calculate slope\n",
        "geoflood_onion.calculate_slope()"
      ]
    },
    {
      "cell_type": "code",
      "execution_count": 5,
      "metadata": {},
      "outputs": [
        {
          "name": "stdout",
          "output_type": "stream",
          "text": [
            " using geometric curvature\n",
            " curvature statistics\n",
            " non-nan curvature cell number: 16045500\n",
            " non-nan finite curvature cell number:  mean:  -0.00031314598\n",
            " standard deviation:  0.112147875\n",
            "Curvature raster written to data/OC1mTest_curvature.tif\n",
            "\n",
            "calculate_curvature completed in 1.2137 seconds\n"
          ]
        }
      ],
      "source": [
        "# calculate curvature\n",
        "geoflood_onion.calculate_curvature()"
      ]
    },
    {
      "cell_type": "code",
      "execution_count": 6,
      "metadata": {},
      "outputs": [
        {
          "name": "stdout",
          "output_type": "stream",
          "text": [
            "Filled DEM written to data/OC1mTest_filled.tif\n",
            "\n",
            "fill_depressions completed in 7.7034 seconds\n"
          ]
        }
      ],
      "source": [
        "# fill depressions on filtered DEM\n",
        "geoflood_onion.fill_depressions()"
      ]
    },
    {
      "cell_type": "code",
      "execution_count": 7,
      "metadata": {},
      "outputs": [
        {
          "name": "stdout",
          "output_type": "stream",
          "text": [
            "MFD flow accumulation raster written to data/OC1mTest_mfd_fac.tif\n",
            "\n",
            "calculate_mfd_flow_accumulation completed in 4.4118 seconds\n"
          ]
        }
      ],
      "source": [
        "# calculate MFD flow accumulation\n",
        "geoflood_onion.calculate_mfd_flow_accumulation()"
      ]
    },
    {
      "cell_type": "code",
      "execution_count": 8,
      "metadata": {},
      "outputs": [
        {
          "name": "stdout",
          "output_type": "stream",
          "text": [
            "D8 flow direction raster written to data/OC1mTest_d8_fdr.tif\n",
            "\n",
            "calculate_d8_flow_direction completed in 1.6816 seconds\n"
          ]
        }
      ],
      "source": [
        "# calculate D8 flow directions\n",
        "geoflood_onion.calculate_d8_flow_direction()"
      ]
    },
    {
      "cell_type": "code",
      "execution_count": 9,
      "metadata": {},
      "outputs": [
        {
          "name": "stdout",
          "output_type": "stream",
          "text": [
            "Outlets raster written to data/OC1mTest_outlets.tif\n",
            "\n",
            "find_outlets completed in 0.2143 seconds\n"
          ]
        }
      ],
      "source": [
        "# calculate outlets\n",
        "geoflood_onion.find_outlets()"
      ]
    },
    {
      "cell_type": "code",
      "execution_count": 10,
      "metadata": {},
      "outputs": [
        {
          "name": "stdout",
          "output_type": "stream",
          "text": [
            "Basins raster written to data/OC1mTest_basins.tif\n",
            "\n",
            "delineate_basins completed in 0.9339 seconds\n"
          ]
        }
      ],
      "source": [
        "# delineate basins\n",
        "geoflood_onion.delineate_basins()"
      ]
    },
    {
      "cell_type": "code",
      "execution_count": 11,
      "metadata": {},
      "outputs": [
        {
          "name": "stdout",
          "output_type": "stream",
          "text": [
            "Curvature mean:  -0.00031413726\n",
            "Curvature standard deviation:  0.11232527\n",
            "Curvature Projection: EPSG:6343\n",
            "Mean upstream flow:  2617.3486\n",
            "Flow skeleton written to data/OC1mTest_flow_skeleton.tif\n",
            "Curvature skeleton written to data/OC1mTest_curvature_skeleton.tif\n",
            "Combined skeleton written to data/OC1mTest_combined_skeleton.tif\n",
            "\n",
            "define_skeleton completed in 1.0844 seconds\n"
          ]
        }
      ],
      "source": [
        "# define skeletons\n",
        "geoflood_onion.define_skeleton(\n",
        "    write_curvature_skeleton=True,\n",
        "    write_flow_skeleton=True,\n",
        ")"
      ]
    },
    {
      "cell_type": "code",
      "execution_count": 12,
      "metadata": {},
      "outputs": [
        {
          "name": "stdout",
          "output_type": "stream",
          "text": [
            "Performing fast marching\n",
            "FMM iteration 1/32: RAM usage: 11.13/16.00 GB (69.6%)\n",
            "FMM iteration 2/32: RAM usage: 11.04/16.00 GB (69.0%)\n",
            "FMM iteration 3/32: RAM usage: 10.99/16.00 GB (68.7%)\n",
            "FMM iteration 4/32: RAM usage: 10.99/16.00 GB (68.7%)\n",
            "FMM iteration 5/32: RAM usage: 11.00/16.00 GB (68.8%)\n",
            "FMM iteration 6/32: RAM usage: 10.99/16.00 GB (68.7%)\n",
            "FMM iteration 7/32: RAM usage: 11.04/16.00 GB (69.0%)\n",
            "FMM iteration 8/32: RAM usage: 11.04/16.00 GB (69.0%)\n",
            "FMM iteration 9/32: RAM usage: 11.04/16.00 GB (69.0%)\n",
            "FMM iteration 10/32: RAM usage: 11.04/16.00 GB (69.0%)\n",
            "FMM iteration 11/32: RAM usage: 11.04/16.00 GB (69.0%)\n",
            "FMM iteration 12/32: RAM usage: 11.04/16.00 GB (69.0%)\n",
            "FMM iteration 13/32: RAM usage: 10.99/16.00 GB (68.7%)\n",
            "FMM iteration 14/32: RAM usage: 11.05/16.00 GB (69.1%)\n",
            "FMM iteration 15/32: RAM usage: 11.05/16.00 GB (69.1%)\n",
            "FMM iteration 16/32: RAM usage: 11.05/16.00 GB (69.1%)\n",
            "FMM iteration 17/32: RAM usage: 11.05/16.00 GB (69.1%)\n",
            "FMM iteration 18/32: RAM usage: 11.05/16.00 GB (69.1%)\n",
            "FMM iteration 19/32: RAM usage: 11.05/16.00 GB (69.1%)\n",
            "FMM iteration 20/32: RAM usage: 11.05/16.00 GB (69.1%)\n",
            "FMM iteration 21/32: RAM usage: 10.99/16.00 GB (68.7%)\n",
            "FMM iteration 22/32: RAM usage: 10.99/16.00 GB (68.7%)\n",
            "FMM iteration 23/32: RAM usage: 10.99/16.00 GB (68.7%)\n",
            "FMM iteration 24/32: RAM usage: 10.99/16.00 GB (68.7%)\n",
            "FMM iteration 25/32: RAM usage: 11.04/16.00 GB (69.0%)\n",
            "FMM iteration 26/32: RAM usage: 10.89/16.00 GB (68.0%)\n",
            "FMM iteration 27/32: RAM usage: 10.89/16.00 GB (68.1%)\n",
            "FMM iteration 28/32: RAM usage: 10.89/16.00 GB (68.0%)\n",
            "FMM iteration 29/32: RAM usage: 10.89/16.00 GB (68.1%)\n",
            "FMM iteration 30/32: RAM usage: 10.90/16.00 GB (68.1%)\n",
            "FMM iteration 31/32: RAM usage: 10.89/16.00 GB (68.1%)\n",
            "FMM iteration 32/32: RAM usage: 10.90/16.00 GB (68.1%)\n",
            "Cost function written to data/OC1mTest_cost_function_geodesic.tif\n",
            "Geodesic distance raster written to data/OC1mTest_geodesic_distance.tif\n",
            "\n",
            "calculate_geodesic_distance completed in 16.7264 seconds\n"
          ]
        }
      ],
      "source": [
        "# geodesic distance (not needed for GeoFlood workflow)\n",
        "geoflood_onion.calculate_geodesic_distance(write_cost_function=True)"
      ]
    },
    {
      "cell_type": "code",
      "execution_count": 13,
      "metadata": {},
      "outputs": [
        {
          "name": "stdout",
          "output_type": "stream",
          "text": [
            "Locating skeleton end points\n",
            "Counting the number of elements of each connected component\n",
            "Skeleton region size threshold: 258.7368421052632\n",
            "Continuing to locate skeleton endpoints\n",
            "Channel heads shapefile written to data/OC1mTest_channel_heads.shp\n",
            "\n",
            "identify_channel_heads completed in 2.3973 seconds\n"
          ]
        }
      ],
      "source": [
        "# get channel heads\n",
        "geoflood_onion.identify_channel_heads()"
      ]
    },
    {
      "cell_type": "code",
      "execution_count": 14,
      "metadata": {},
      "outputs": [
        {
          "name": "stdout",
          "output_type": "stream",
          "text": [
            "Endpoints csv written to data/OC1mTest_endpoints.csv\n",
            "\n",
            "find_endpoints completed in 0.0264 seconds\n"
          ]
        }
      ],
      "source": [
        "# set path to NFIE (NHD MR) flowline\n",
        "# full dataset here: https://www.arcgis.com/home/webmap/viewer.html?webmap=9766a82973b34f18b43dafa20c5ef535\n",
        "# download demo flowline if it doesn't exist\n",
        "geoflood_onion.flowline_path = Path(data_dir, \"Flowline.shp\")\n",
        "if not geoflood_onion.flowline_path.is_file():\n",
        "    !curl -sL https://utexas.box.com/shared/static/s1vlnymonbidnhul52oja7s83ky1212j.tgz | tar -xz -C $data_dir\n",
        "# get flowline endpoints\n",
        "geoflood_onion.find_endpoints()"
      ]
    },
    {
      "cell_type": "code",
      "execution_count": 15,
      "metadata": {},
      "outputs": [
        {
          "name": "stdout",
          "output_type": "stream",
          "text": [
            "Binary HAND raster written to data/OC1mTest_binary_hand.tif\n",
            "\n",
            "calculate_binary_hand completed in 3.2747 seconds\n"
          ]
        }
      ],
      "source": [
        "# get binary HAND array\n",
        "geoflood_onion.calculate_binary_hand()"
      ]
    },
    {
      "cell_type": "code",
      "execution_count": 16,
      "metadata": {},
      "outputs": [
        {
          "name": "stdout",
          "output_type": "stream",
          "text": [
            "Custom flowline raster written to data/OC1mTest_custom_flowline.tif\n",
            "\n",
            "rasterize_custom_flowline completed in 0.8900 seconds\n"
          ]
        }
      ],
      "source": [
        "# get custom flowline from NHD HR dataset (optional)\n",
        "geoflood_onion.custom_flowline_path = Path(\n",
        "    data_dir, \"NHDPlus_H_1209_HU4_GDB.gdb\"\n",
        ")\n",
        "geoflood_onion.rasterize_custom_flowline(layer=\"NHDFlowline\")"
      ]
    },
    {
      "cell_type": "code",
      "execution_count": 17,
      "metadata": {},
      "outputs": [
        {
          "name": "stdout",
          "output_type": "stream",
          "text": [
            "Cost function weights:\n",
            "curvature          0.2520 (mean flow accumulation)\n",
            "mfd_fac            1.0000\n",
            "binary_hand        0.7500\n",
            "custom_flowline    0.0000\n",
            "\n",
            "Cost min: 0.5028838188775905\n",
            "Cost max: inf\n",
            "cost shape: (3378, 4750)\n",
            "Creating path 1/1: RAM usage: 11.22/16.00 GB (70.1%)\n",
            "Number of endpoints: 1\n",
            "Channel network raster written to data/OC1mTest_channel_network.tif\n",
            "Channel network vector written to data/OC1mTest_channel_network.shp\n",
            "\n",
            "extract_channel_network completed in 1.9264 seconds\n"
          ]
        }
      ],
      "source": [
        "# extract channel network\n",
        "geoflood_onion.extract_channel_network()"
      ]
    },
    {
      "cell_type": "code",
      "execution_count": 18,
      "metadata": {},
      "outputs": [
        {
          "name": "stdout",
          "output_type": "stream",
          "text": [
            "HAND raster written to data/OC1mTest_HAND.tif\n",
            "\n",
            "calculate_hand completed in 4.8302 seconds\n"
          ]
        }
      ],
      "source": [
        "# calculate HAND\n",
        "geoflood_onion.calculate_hand()"
      ]
    },
    {
      "cell_type": "code",
      "execution_count": 19,
      "metadata": {},
      "outputs": [],
      "source": [
        "# # segment flowline\n",
        "# geoflood_onion.segment_flowline()"
      ]
    },
    {
      "cell_type": "code",
      "execution_count": 20,
      "metadata": {},
      "outputs": [
        {
          "data": {
            "text/plain": [
              "PyGeoFlood(\n",
              "    dem_path=\"data/OC1mTest.tif\",\n",
              "    project_dir=\"data\",\n",
              "    filtered_dem_path=\"data/OC1mTest_filtered.tif\",\n",
              "    slope_path=\"data/OC1mTest_slope.tif\",\n",
              "    curvature_path=\"data/OC1mTest_curvature.tif\",\n",
              "    filled_path=\"data/OC1mTest_filled.tif\",\n",
              "    mfd_fac_path=\"data/OC1mTest_mfd_fac.tif\",\n",
              "    d8_fdr_path=\"data/OC1mTest_d8_fdr.tif\",\n",
              "    basins_path=\"data/OC1mTest_basins.tif\",\n",
              "    outlets_path=\"data/OC1mTest_outlets.tif\",\n",
              "    flow_skeleton_path=\"data/OC1mTest_flow_skeleton.tif\",\n",
              "    curvature_skeleton_path=\"data/OC1mTest_curvature_skeleton.tif\",\n",
              "    combined_skeleton_path=\"data/OC1mTest_combined_skeleton.tif\",\n",
              "    cost_function_geodesic_path=\"data/OC1mTest_cost_function_geodesic.tif\",\n",
              "    geodesic_distance_path=\"data/OC1mTest_geodesic_distance.tif\",\n",
              "    channel_heads_path=\"data/OC1mTest_channel_heads.shp\",\n",
              "    flowline_path=\"data/Flowline.shp\",\n",
              "    endpoints_path=\"data/OC1mTest_endpoints.csv\",\n",
              "    binary_hand_path=\"data/OC1mTest_binary_hand.tif\",\n",
              "    custom_flowline_path=\"data/NHDPlus_H_1209_HU4_GDB.gdb\",\n",
              "    custom_flowline_raster_path=\"data/OC1mTest_custom_flowline.tif\",\n",
              "    channel_network_path=\"data/OC1mTest_channel_network.tif\",\n",
              "    hand_path=\"data/OC1mTest_HAND.tif\",\n",
              ")"
            ]
          },
          "execution_count": 20,
          "metadata": {},
          "output_type": "execute_result"
        }
      ],
      "source": [
        "geoflood_onion"
      ]
    },
    {
      "cell_type": "code",
      "execution_count": 21,
      "metadata": {},
      "outputs": [],
      "source": [
        "# # set path to NFIE (NHD MR) flowline\n",
        "# # full dataset here: https://www.arcgis.com/home/webmap/viewer.html?webmap=9766a82973b34f18b43dafa20c5ef535\n",
        "# # download demo flowline if it doesn't exist\n",
        "# geoflood_onion.catchment_path = Path(data_dir, \"Catchment.shp\")\n",
        "# if not geoflood_onion.catchment_path.is_file():\n",
        "#     !curl -sL https://utexas.box.com/shared/static/jzawwvmb2tjl4yqtnitgvfjcc4ho4tg5.tgz | tar -xz -C $data_dir\n",
        "# # calculate stream segment attributes (ID, slope, length, area)\n",
        "# geoflood_onion.river_attributes()"
      ]
    }
  ],
  "metadata": {
    "colab": {
      "authorship_tag": "ABX9TyMNCi84+7QiD4ra1kbkEbpz",
      "include_colab_link": true,
      "provenance": []
    },
    "kernelspec": {
      "display_name": "Python 3",
      "name": "python3"
    },
    "language_info": {
      "codemirror_mode": {
        "name": "ipython",
        "version": 3
      },
      "file_extension": ".py",
      "mimetype": "text/x-python",
      "name": "python",
      "nbconvert_exporter": "python",
      "pygments_lexer": "ipython3",
      "version": "3.11.8"
    }
  },
  "nbformat": 4,
  "nbformat_minor": 0
}
