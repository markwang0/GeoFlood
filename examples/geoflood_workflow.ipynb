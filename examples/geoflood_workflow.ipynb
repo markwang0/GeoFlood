{
 "cells": [
  {
   "cell_type": "code",
   "execution_count": null,
   "metadata": {},
   "outputs": [],
   "source": [
    "# to install:\n",
    "# pip install git+https://github.com/markwang0/geoflood@WIP-pygeoflood-class"
   ]
  },
  {
   "cell_type": "code",
   "execution_count": 5,
   "metadata": {},
   "outputs": [
    {
     "name": "stdout",
     "output_type": "stream",
     "text": [
      "Computing slope of raw DTM\n",
      "DEM slope array shape: (3378, 4750)\n",
      "Computing lambda = q-q-based nonlinear filtering threshold\n",
      "('dem smoothing Quantile', 0.9)\n",
      "('edgeThresholdValue:', 0.34356024861335754)\n",
      "time taken to complete nonlinear filtering: 9.0 seconds\n"
     ]
    }
   ],
   "source": [
    "# instantiate pygeoflood object with path to DEM\n",
    "from pygeoflood import Pygeoflood\n",
    "\n",
    "my_dem_path = \"/tmp/OC1mTest.tif\"\n",
    "my_geoflood_model = Pygeoflood(dem_path=my_dem_path)\n",
    "my_geoflood_model.run_nonlinear_filter()"
   ]
  },
  {
   "cell_type": "code",
   "execution_count": null,
   "metadata": {},
   "outputs": [],
   "source": []
  }
 ],
 "metadata": {
  "kernelspec": {
   "display_name": "Python 3",
   "language": "python",
   "name": "python3"
  },
  "language_info": {
   "codemirror_mode": {
    "name": "ipython",
    "version": 3
   },
   "file_extension": ".py",
   "mimetype": "text/x-python",
   "name": "python",
   "nbconvert_exporter": "python",
   "pygments_lexer": "ipython3",
   "version": "3.11.3"
  },
  "orig_nbformat": 4
 },
 "nbformat": 4,
 "nbformat_minor": 2
}
