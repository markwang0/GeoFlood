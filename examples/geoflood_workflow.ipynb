{
  "cells": [
    {
      "cell_type": "markdown",
      "metadata": {
        "colab_type": "text",
        "id": "view-in-github"
      },
      "source": [
        "<a href=\"https://colab.research.google.com/github/markwang0/GeoFlood/blob/WIP-pygeoflood-class/examples/geoflood_workflow.ipynb\" target=\"_parent\"><img src=\"https://colab.research.google.com/assets/colab-badge.svg\" alt=\"Open In Colab\"/></a>\n"
      ]
    },
    {
      "cell_type": "markdown",
      "metadata": {
        "id": "XLAMdHHaIKmK"
      },
      "source": [
        "### Install in-development branch of GeoFlood\n"
      ]
    },
    {
      "cell_type": "code",
      "execution_count": 12,
      "metadata": {
        "id": "ceL8_amKGc0C"
      },
      "outputs": [],
      "source": [
        "%%capture\n",
        "\n",
        "inColab = 'google.colab' in str(get_ipython())\n",
        "if inColab:\n",
        "    %pip install git+https://github.com/markwang0/geoflood@WIP-pygeoflood-class#egg=pygeoflood\n",
        "else:\n",
        "    %pip install -e ..\n",
        "    pass\n"
      ]
    },
    {
      "cell_type": "markdown",
      "metadata": {
        "id": "Bs031yHfIwQK"
      },
      "source": [
        "### Run GeoFlood operations\n"
      ]
    },
    {
      "cell_type": "code",
      "execution_count": 1,
      "metadata": {},
      "outputs": [
        {
          "name": "stdout",
          "output_type": "stream",
          "text": [
            "PyGeoFlood(\n",
            "    dem_path=\"data/OC1mTest.tif\",\n",
            "    project_dir=\"data\",\n",
            ")\n"
          ]
        }
      ],
      "source": [
        "from pathlib import Path\n",
        "from pygeoflood import PyGeoFlood\n",
        "\n",
        "data_dir = Path(\"data\")\n",
        "if not data_dir.is_dir():\n",
        "    data_dir.mkdir()\n",
        "my_dem_path = Path(data_dir, \"OC1mTest.tif\")\n",
        "# download DEM if it doesn't exist\n",
        "if not my_dem_path.is_file():\n",
        "    !curl https://utexas.box.com/shared/static/id0in7w8yn38o59sexa50aqunsr7mzk0.tif -Lso data/OC1mTest.tif\n",
        "\n",
        "geoflood_onion = PyGeoFlood(dem_path=my_dem_path)\n",
        "print(geoflood_onion)\n"
      ]
    },
    {
      "cell_type": "code",
      "execution_count": 2,
      "metadata": {},
      "outputs": [
        {
          "name": "stdout",
          "output_type": "stream",
          "text": [
            "Computing slope of raw DTM\n",
            "DEM slope array shape: (3378, 4750)\n",
            "Computing lambda = q-q-based nonlinear filtering threshold\n",
            "DEM smoothing Quantile: 0.9\n",
            "Edge Threshold Value: 0.34356024861335754\n",
            "Filtered DEM written to data/OC1mTest_filtered.tif\n",
            "nonlinear_filter completed in 13.8997 seconds\n"
          ]
        }
      ],
      "source": [
        "# apply nonlinear filter to DEM\n",
        "geoflood_onion.nonlinear_filter()"
      ]
    },
    {
      "cell_type": "code",
      "execution_count": 3,
      "metadata": {},
      "outputs": [
        {
          "name": "stdout",
          "output_type": "stream",
          "text": [
            "Computing slope\n",
            " slope statistics\n",
            " angle min: 0.0\n",
            " angle max: 54.863846043721324\n",
            " mean slope: 0.13960592\n",
            " stdev slope: 0.15432632\n",
            "Slope raster written to data/OC1mTest_slope.tif\n",
            "slope completed in 1.4116 seconds\n"
          ]
        }
      ],
      "source": [
        "# calculate slope\n",
        "geoflood_onion.slope()"
      ]
    },
    {
      "cell_type": "code",
      "execution_count": 4,
      "metadata": {},
      "outputs": [
        {
          "name": "stdout",
          "output_type": "stream",
          "text": [
            "Computing curvature\n",
            " using geometric curvature\n",
            " curvature statistics\n",
            " non-nan curvature cell number: 16045500\n",
            " non-nan finite curvature cell number:  mean:  -0.00031314598\n",
            " standard deviation:  0.112147875\n",
            "Curvature raster written to data/OC1mTest_curvature.tif\n",
            "curvature completed in 1.5794 seconds\n"
          ]
        }
      ],
      "source": [
        "# calculate curvature\n",
        "geoflood_onion.curvature()"
      ]
    },
    {
      "cell_type": "code",
      "execution_count": 5,
      "metadata": {},
      "outputs": [
        {
          "name": "stdout",
          "output_type": "stream",
          "text": [
            "Filling depressions on the filtered DEM\n",
            "Filled DEM written to data/OC1mTest_filled.tif\n",
            "fill_depressions completed in 7.2105 seconds\n"
          ]
        }
      ],
      "source": [
        "# fill depressions on filtered DEM\n",
        "geoflood_onion.fill_depressions()"
      ]
    },
    {
      "cell_type": "code",
      "execution_count": 6,
      "metadata": {},
      "outputs": [
        {
          "name": "stdout",
          "output_type": "stream",
          "text": [
            "Calculating MFD flow accumulation\n",
            "MFD flow accumulation raster written to data/OC1mTest_mfd_fac.tif\n",
            "mfd_flow_accumulation completed in 4.2561 seconds\n"
          ]
        }
      ],
      "source": [
        "# calculate MFD flow accumulation\n",
        "geoflood_onion.mfd_flow_accumulation()"
      ]
    },
    {
      "cell_type": "code",
      "execution_count": 7,
      "metadata": {},
      "outputs": [
        {
          "name": "stdout",
          "output_type": "stream",
          "text": [
            "Calculating D8 flow direction\n",
            "D8 flow direction raster written to data/OC1mTest_d8_fdr.tif\n",
            "d8_flow_direction completed in 1.5505 seconds\n"
          ]
        }
      ],
      "source": [
        "# calculate D8 flow directions\n",
        "geoflood_onion.d8_flow_direction()"
      ]
    },
    {
      "cell_type": "code",
      "execution_count": 8,
      "metadata": {},
      "outputs": [
        {
          "name": "stdout",
          "output_type": "stream",
          "text": [
            "Creating outlets raster\n",
            "Outlets raster written to data/OC1mTest_outlets.tif\n",
            "outlets completed in 0.2150 seconds\n"
          ]
        }
      ],
      "source": [
        "# calculate outlets\n",
        "geoflood_onion.outlets()"
      ]
    },
    {
      "cell_type": "code",
      "execution_count": 9,
      "metadata": {},
      "outputs": [
        {
          "name": "stdout",
          "output_type": "stream",
          "text": [
            "Delineating basins\n",
            "Basins raster written to data/OC1mTest_basins.tif\n",
            "basins completed in 0.8098 seconds\n"
          ]
        }
      ],
      "source": [
        "# delineate basins\n",
        "geoflood_onion.basins()"
      ]
    },
    {
      "cell_type": "code",
      "execution_count": 10,
      "metadata": {},
      "outputs": [
        {
          "name": "stdout",
          "output_type": "stream",
          "text": [
            "Curvature mean:  -0.00031413726\n",
            "Curvature standard deviation:  0.11232527\n",
            "Curvature Projection: EPSG:6343\n",
            "Mean upstream flow:  2617.359\n",
            "Flow skeleton written to data/OC1mTest_flow_skeleton.tif\n",
            "Curvature skeleton written to data/OC1mTest_curvature_skeleton.tif\n",
            "Combined skeleton written to data/OC1mTest_combined_skeleton.tif\n",
            "skeleton_definition completed in 1.2649 seconds\n"
          ]
        }
      ],
      "source": [
        "# define skeletons\n",
        "geoflood_onion.skeleton_definition(\n",
        "    write_curvature_skeleton=True,\n",
        "    write_flow_skeleton=True,\n",
        ")"
      ]
    },
    {
      "cell_type": "code",
      "execution_count": 11,
      "metadata": {},
      "outputs": [
        {
          "data": {
            "text/plain": [
              "PyGeoFlood(\n",
              "    dem_path=\"data/OC1mTest.tif\",\n",
              "    project_dir=\"data\",\n",
              "    filtered_dem_path=\"data/OC1mTest_filtered.tif\",\n",
              "    slope_path=\"data/OC1mTest_slope.tif\",\n",
              "    curvature_path=\"data/OC1mTest_curvature.tif\",\n",
              "    filled_path=\"data/OC1mTest_filled.tif\",\n",
              "    mfd_fac_path=\"data/OC1mTest_mfd_fac.tif\",\n",
              "    d8_fdr_path=\"data/OC1mTest_d8_fdr.tif\",\n",
              "    outlets_path=\"data/OC1mTest_outlets.tif\",\n",
              "    basins_path=\"data/OC1mTest_basins.tif\",\n",
              "    flow_skeleton_path=\"data/OC1mTest_flow_skeleton.tif\",\n",
              "    curvature_skeleton_path=\"data/OC1mTest_curvature_skeleton.tif\",\n",
              "    combined_skeleton_path=\"data/OC1mTest_combined_skeleton.tif\",\n",
              ")"
            ]
          },
          "execution_count": 11,
          "metadata": {},
          "output_type": "execute_result"
        }
      ],
      "source": [
        "geoflood_onion"
      ]
    },
    {
      "cell_type": "code",
      "execution_count": null,
      "metadata": {},
      "outputs": [],
      "source": []
    }
  ],
  "metadata": {
    "colab": {
      "authorship_tag": "ABX9TyMNCi84+7QiD4ra1kbkEbpz",
      "include_colab_link": true,
      "provenance": []
    },
    "kernelspec": {
      "display_name": "Python 3",
      "name": "python3"
    },
    "language_info": {
      "codemirror_mode": {
        "name": "ipython",
        "version": 3
      },
      "file_extension": ".py",
      "mimetype": "text/x-python",
      "name": "python",
      "nbconvert_exporter": "python",
      "pygments_lexer": "ipython3",
      "version": "3.11.8"
    }
  },
  "nbformat": 4,
  "nbformat_minor": 0
}
