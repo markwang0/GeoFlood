{
  "cells": [
    {
      "cell_type": "markdown",
      "metadata": {
        "colab_type": "text",
        "id": "view-in-github"
      },
      "source": [
        "<a href=\"https://colab.research.google.com/github/markwang0/GeoFlood/blob/WIP-pygeoflood-class/examples/geoflood_workflow.ipynb\" target=\"_parent\"><img src=\"https://colab.research.google.com/assets/colab-badge.svg\" alt=\"Open In Colab\"/></a>"
      ]
    },
    {
      "cell_type": "markdown",
      "metadata": {
        "id": "XLAMdHHaIKmK"
      },
      "source": [
        "### Install in-development branch of GeoFlood"
      ]
    },
    {
      "cell_type": "code",
      "execution_count": 1,
      "metadata": {
        "id": "ceL8_amKGc0C"
      },
      "outputs": [],
      "source": [
        "%%capture\n",
        "\n",
        "inColab = 'google.colab' in str(get_ipython())\n",
        "if inColab:\n",
        "    !pip install -e git+https://github.com/markwang0/geoflood@WIP-pygeoflood-class\n",
        "else:\n",
        "    !pip install -e .\n"
      ]
    },
    {
      "cell_type": "markdown",
      "metadata": {
        "id": "Bs031yHfIwQK"
      },
      "source": [
        "### Run GeoFlood operations"
      ]
    },
    {
      "cell_type": "code",
      "execution_count": 5,
      "metadata": {},
      "outputs": [
        {
          "name": "stdout",
          "output_type": "stream",
          "text": [
            "PyGeoFlood(\n",
            "    dem_path='data/OC1mTest.tif'\n",
            "    project_dir='data'\n",
            "    dem_smoothing_quantile=0.9\n",
            ")\n"
          ]
        }
      ],
      "source": [
        "import os\n",
        "from pathlib import Path\n",
        "from pygeoflood import PyGeoFlood\n",
        "\n",
        "my_dem_path = Path(\"data\", \"OC1mTest.tif\")\n",
        "# download DEM if it doesn't exist\n",
        "if not my_dem_path.is_file():\n",
        "    !curl https://utexas.box.com/shared/static/id0in7w8yn38o59sexa50aqunsr7mzk0.tif -Lso data/OC1mTest.tif\n",
        "geoflood_onion = PyGeoFlood(dem_path=my_dem_path)\n",
        "print(geoflood_onion)"
      ]
    },
    {
      "cell_type": "code",
      "execution_count": 6,
      "metadata": {},
      "outputs": [
        {
          "name": "stdout",
          "output_type": "stream",
          "text": [
            "Computing slope of raw DTM\n",
            "DEM slope array shape: (3378, 4750)\n",
            "Computing lambda = q-q-based nonlinear filtering threshold\n",
            "DEM smoothing Quantile: 0.9\n",
            "Edge Threshold Value: 0.34356024861335754\n",
            "Time taken to complete nonlinear filtering: 12.0 seconds\n"
          ]
        }
      ],
      "source": [
        "# Perona-Malik filtered DEM saved as\n",
        "# [DEM_name]_PM_filtered.tif\n",
        "# in same directory as the original DEM\n",
        "geoflood_onion.nonlinear_filter()"
      ]
    },
    {
      "cell_type": "code",
      "execution_count": 7,
      "metadata": {},
      "outputs": [
        {
          "name": "stdout",
          "output_type": "stream",
          "text": [
            "PyGeoFlood(\n",
            "    dem_path='data/OC1mTest.tif'\n",
            "    project_dir='data'\n",
            "    dem_smoothing_quantile=0.9\n",
            "    filtered_dem_path='data/OC1mTest_PM_filtered.tif'\n",
            ")\n"
          ]
        }
      ],
      "source": [
        "print(geoflood_onion)"
      ]
    },
    {
      "cell_type": "markdown",
      "metadata": {},
      "source": [
        "### pysheds replacement for grass_py3.py"
      ]
    },
    {
      "cell_type": "code",
      "execution_count": 3,
      "metadata": {},
      "outputs": [],
      "source": [
        "from pysheds.grid import Grid\n",
        "import numpy as np\n",
        "import os\n",
        "\n",
        "# compare with demo_geoflood dir\n",
        "my_pm_filt_path = os.path.expanduser(\n",
        "    \"~/Documents/pygeoflood_demo/OC1mTest_PM_filtered.tif\"\n",
        ")\n",
        "grid = Grid.from_raster(my_pm_filt_path)\n",
        "dem = grid.read_raster(my_pm_filt_path)\n",
        "grass_dirmap = (2, 1, 8, 7, 6, 5, 4, 3)\n",
        "fdir = grid.flowdir(dem, dirmap=grass_dirmap, routing=\"mfd\")\n",
        "acc = grid.accumulation(fdir, dirmap=grass_dirmap, routing=\"mfd\")"
      ]
    },
    {
      "cell_type": "code",
      "execution_count": 20,
      "metadata": {},
      "outputs": [
        {
          "name": "stdout",
          "output_type": "stream",
          "text": [
            "1.0 399245.8507925526\n",
            "0.0 1.0\n"
          ]
        }
      ],
      "source": [
        "print(np.nanmin(acc), np.nanmax(acc))\n",
        "print(np.nanmin(fdir), np.nanmax(fdir))"
      ]
    },
    {
      "cell_type": "code",
      "execution_count": 28,
      "metadata": {},
      "outputs": [
        {
          "data": {
            "text/plain": [
              "MultiRaster(1.)"
            ]
          },
          "execution_count": 28,
          "metadata": {},
          "output_type": "execute_result"
        }
      ],
      "source": [
        "np.nanmax(fdir[1, :, :])"
      ]
    },
    {
      "cell_type": "code",
      "execution_count": 46,
      "metadata": {},
      "outputs": [
        {
          "data": {
            "text/plain": [
              "1.0"
            ]
          },
          "execution_count": 46,
          "metadata": {},
          "output_type": "execute_result"
        }
      ],
      "source": [
        "np.nanmin(np.array(acc))"
      ]
    },
    {
      "cell_type": "code",
      "execution_count": 58,
      "metadata": {},
      "outputs": [],
      "source": [
        "fdir_inf = grid.flowdir(dem, dirmap=grass_dirmap, routing=\"dinf\")\n",
        "acc_inf = grid.accumulation(fdir_inf, dirmap=grass_dirmap, routing=\"dinf\")"
      ]
    },
    {
      "cell_type": "code",
      "execution_count": 60,
      "metadata": {},
      "outputs": [
        {
          "data": {
            "text/plain": [
              "76041"
            ]
          },
          "execution_count": 60,
          "metadata": {},
          "output_type": "execute_result"
        }
      ],
      "source": [
        "np.sum(np.array(fdir_inf) < 0)"
      ]
    },
    {
      "cell_type": "code",
      "execution_count": 61,
      "metadata": {},
      "outputs": [
        {
          "data": {
            "text/plain": [
              "0"
            ]
          },
          "execution_count": 61,
          "metadata": {},
          "output_type": "execute_result"
        }
      ],
      "source": [
        "np.sum(np.array(fdir) < 0)"
      ]
    },
    {
      "cell_type": "code",
      "execution_count": 62,
      "metadata": {},
      "outputs": [
        {
          "data": {
            "text/plain": [
              "0"
            ]
          },
          "execution_count": 62,
          "metadata": {},
          "output_type": "execute_result"
        }
      ],
      "source": [
        "np.sum(np.array(acc) < 0)"
      ]
    },
    {
      "cell_type": "code",
      "execution_count": 12,
      "metadata": {},
      "outputs": [],
      "source": [
        "grid.to_raster(\n",
        "    acc,\n",
        "    \"/Users/markwang/Documents/pygeoflood_demo/acc.tif\",\n",
        "    blockxsize=16,\n",
        "    blockysize=16,\n",
        ")"
      ]
    },
    {
      "cell_type": "code",
      "execution_count": null,
      "metadata": {},
      "outputs": [],
      "source": []
    }
  ],
  "metadata": {
    "colab": {
      "authorship_tag": "ABX9TyMNCi84+7QiD4ra1kbkEbpz",
      "include_colab_link": true,
      "provenance": []
    },
    "kernelspec": {
      "display_name": "Python 3",
      "name": "python3"
    },
    "language_info": {
      "codemirror_mode": {
        "name": "ipython",
        "version": 3
      },
      "file_extension": ".py",
      "mimetype": "text/x-python",
      "name": "python",
      "nbconvert_exporter": "python",
      "pygments_lexer": "ipython3",
      "version": "3.11.8"
    }
  },
  "nbformat": 4,
  "nbformat_minor": 0
}
