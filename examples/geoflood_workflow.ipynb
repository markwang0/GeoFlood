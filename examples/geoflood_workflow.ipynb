{
  "cells": [
    {
      "cell_type": "markdown",
      "metadata": {
        "colab_type": "text",
        "id": "view-in-github"
      },
      "source": [
        "<a href=\"https://colab.research.google.com/github/markwang0/GeoFlood/blob/WIP-pygeoflood-class/examples/geoflood_workflow.ipynb\" target=\"_parent\"><img src=\"https://colab.research.google.com/assets/colab-badge.svg\" alt=\"Open In Colab\"/></a>\n"
      ]
    },
    {
      "cell_type": "markdown",
      "metadata": {
        "id": "XLAMdHHaIKmK"
      },
      "source": [
        "### Install in-development branch of GeoFlood\n"
      ]
    },
    {
      "cell_type": "code",
      "execution_count": 3,
      "metadata": {
        "id": "ceL8_amKGc0C"
      },
      "outputs": [],
      "source": [
        "%%capture\n",
        "\n",
        "inColab = 'google.colab' in str(get_ipython())\n",
        "if inColab:\n",
        "    %pip install git+https://github.com/markwang0/geoflood@WIP-pygeoflood-class#egg=pygeoflood\n",
        "else:\n",
        "    %pip install -e ..\n",
        "    pass\n"
      ]
    },
    {
      "cell_type": "markdown",
      "metadata": {
        "id": "Bs031yHfIwQK"
      },
      "source": [
        "### Run GeoFlood operations\n"
      ]
    },
    {
      "cell_type": "code",
      "execution_count": 2,
      "metadata": {},
      "outputs": [],
      "source": [
        "# library imports\n",
        "\n",
        "from pathlib import Path\n",
        "from pygeoflood import PyGeoFlood"
      ]
    },
    {
      "cell_type": "code",
      "execution_count": 3,
      "metadata": {},
      "outputs": [],
      "source": [
        "# instantiate PyGeoFlood model class\n",
        "pgf = PyGeoFlood()"
      ]
    },
    {
      "cell_type": "code",
      "execution_count": 4,
      "metadata": {},
      "outputs": [],
      "source": [
        "# download input data for demo project and set paths\n",
        "\n",
        "# set data directory\n",
        "data_dir = Path(\"data\")\n",
        "if not data_dir.is_dir():\n",
        "    data_dir.mkdir()\n",
        "\n",
        "# DEM from USGS 3DEP\n",
        "pgf.dem_path = Path(data_dir, \"OC1mTest.tif\")\n",
        "# download DEM if it doesn't exist\n",
        "if not pgf.dem_path.is_file():\n",
        "    !curl https://utexas.box.com/shared/static/id0in7w8yn38o59sexa50aqunsr7mzk0.tif -Lso data/OC1mTest.tif\n",
        "\n",
        "# flowline from NFIE (NHD MR) dataset\n",
        "# https://www.arcgis.com/home/webmap/viewer.html?webmap=9766a82973b34f18b43dafa20c5ef535\n",
        "pgf.flowline_path = Path(data_dir, \"Flowline.shp\")\n",
        "if not pgf.flowline_path.is_file():\n",
        "    !curl -sL https://utexas.box.com/shared/static/s1vlnymonbidnhul52oja7s83ky1212j.tgz | tar -xz -C $data_dir\n",
        "\n",
        "# catchment from NFIE (NHD MR) dataset\n",
        "pgf.catchment_path = Path(data_dir, \"Catchment.shp\")\n",
        "if not pgf.catchment_path.is_file():\n",
        "    !curl -sL https://utexas.box.com/shared/static/jzawwvmb2tjl4yqtnitgvfjcc4ho4tg5.tgz | tar -xz -C $data_dir\n",
        "\n",
        "# pgf.streamflow_forecast_path = \"data/prod_nwm.t00z.analysis_assim.channel_rt.tm00.conus.nc\"\n",
        "# pgf.custom_flowline_path = Path(data_dir, \"NHDPlus_H_1209_HU4_GDB.gdb\")\n"
      ]
    },
    {
      "cell_type": "code",
      "execution_count": 5,
      "metadata": {},
      "outputs": [
        {
          "name": "stdout",
          "output_type": "stream",
          "text": [
            "Computing slope of raw DTM\n",
            "DEM slope array shape: (3378, 4750)\n",
            "Computing lambda = q-q-based nonlinear filtering threshold\n",
            "DEM smoothing Quantile: 0.9\n",
            "Edge Threshold Value: 0.34356024861335754\n",
            "Filtered DEM written to data/OC1mTest_filtered.tif\n",
            "\n",
            "apply_nonlinear_filter completed in 9.7446 seconds\n"
          ]
        }
      ],
      "source": [
        "# apply nonlinear filter to DEM\n",
        "pgf.apply_nonlinear_filter()"
      ]
    },
    {
      "cell_type": "code",
      "execution_count": 6,
      "metadata": {},
      "outputs": [
        {
          "name": "stdout",
          "output_type": "stream",
          "text": [
            " slope statistics\n",
            " min angle: 0.0\n",
            " max angle: 54.863846043721324\n",
            " mean slope: 0.13960592\n",
            " stdev slope: 0.15432632\n",
            "Slope raster written to data/OC1mTest_slope.tif\n",
            "\n",
            "calculate_slope completed in 1.1899 seconds\n"
          ]
        }
      ],
      "source": [
        "# calculate slope\n",
        "pgf.calculate_slope()"
      ]
    },
    {
      "cell_type": "code",
      "execution_count": 7,
      "metadata": {},
      "outputs": [
        {
          "name": "stdout",
          "output_type": "stream",
          "text": [
            " using geometric curvature\n",
            " curvature statistics\n",
            " non-nan curvature cell number: 16045500\n",
            " non-nan finite curvature cell number:  mean:  -0.00031314598\n",
            " standard deviation:  0.112147875\n",
            "Curvature raster written to data/OC1mTest_curvature.tif\n",
            "\n",
            "calculate_curvature completed in 1.1393 seconds\n"
          ]
        }
      ],
      "source": [
        "# calculate curvature\n",
        "pgf.calculate_curvature()"
      ]
    },
    {
      "cell_type": "code",
      "execution_count": 8,
      "metadata": {},
      "outputs": [
        {
          "name": "stdout",
          "output_type": "stream",
          "text": [
            "Filled DEM written to data/OC1mTest_filled.tif\n",
            "\n",
            "fill_depressions completed in 7.5472 seconds\n"
          ]
        }
      ],
      "source": [
        "# fill depressions on filtered DEM\n",
        "pgf.fill_depressions()"
      ]
    },
    {
      "cell_type": "code",
      "execution_count": 9,
      "metadata": {},
      "outputs": [
        {
          "name": "stdout",
          "output_type": "stream",
          "text": [
            "MFD flow accumulation raster written to data/OC1mTest_mfd_fac.tif\n",
            "\n",
            "calculate_mfd_flow_accumulation completed in 4.4427 seconds\n"
          ]
        }
      ],
      "source": [
        "# calculate MFD flow accumulation\n",
        "pgf.calculate_mfd_flow_accumulation()"
      ]
    },
    {
      "cell_type": "code",
      "execution_count": 10,
      "metadata": {},
      "outputs": [
        {
          "name": "stdout",
          "output_type": "stream",
          "text": [
            "D8 flow direction raster written to data/OC1mTest_d8_fdr.tif\n",
            "\n",
            "calculate_d8_flow_direction completed in 1.6855 seconds\n"
          ]
        }
      ],
      "source": [
        "# calculate D8 flow directions\n",
        "pgf.calculate_d8_flow_direction()"
      ]
    },
    {
      "cell_type": "code",
      "execution_count": 11,
      "metadata": {},
      "outputs": [
        {
          "name": "stdout",
          "output_type": "stream",
          "text": [
            "Outlets raster written to data/OC1mTest_outlets.tif\n",
            "\n",
            "find_outlets completed in 0.2276 seconds\n"
          ]
        }
      ],
      "source": [
        "# calculate outlets\n",
        "pgf.find_outlets()"
      ]
    },
    {
      "cell_type": "code",
      "execution_count": 12,
      "metadata": {},
      "outputs": [
        {
          "name": "stdout",
          "output_type": "stream",
          "text": [
            "Basins raster written to data/OC1mTest_basins.tif\n",
            "\n",
            "delineate_basins completed in 0.9451 seconds\n"
          ]
        }
      ],
      "source": [
        "# delineate basins\n",
        "pgf.delineate_basins()"
      ]
    },
    {
      "cell_type": "code",
      "execution_count": 13,
      "metadata": {},
      "outputs": [
        {
          "name": "stdout",
          "output_type": "stream",
          "text": [
            "Curvature mean:  -0.00031413726\n",
            "Curvature standard deviation:  0.11232527\n",
            "Curvature Projection: EPSG:6343\n",
            "Mean upstream flow:  2617.3564\n",
            "Flow skeleton written to data/OC1mTest_flow_skeleton.tif\n",
            "Curvature skeleton written to data/OC1mTest_curvature_skeleton.tif\n",
            "Combined skeleton written to data/OC1mTest_combined_skeleton.tif\n",
            "\n",
            "define_skeleton completed in 1.1482 seconds\n"
          ]
        }
      ],
      "source": [
        "# define skeletons\n",
        "pgf.define_skeleton(\n",
        "    write_curvature_skeleton=True,\n",
        "    write_flow_skeleton=True,\n",
        ")"
      ]
    },
    {
      "cell_type": "code",
      "execution_count": 14,
      "metadata": {},
      "outputs": [
        {
          "name": "stdout",
          "output_type": "stream",
          "text": [
            "Performing fast marching\n",
            "FMM iteration 1/32: RAM usage: 11.56/16.00 GB (72.3%)\n",
            "FMM iteration 2/32: RAM usage: 11.49/16.00 GB (71.8%)\n",
            "FMM iteration 3/32: RAM usage: 11.42/16.00 GB (71.4%)\n",
            "FMM iteration 4/32: RAM usage: 11.42/16.00 GB (71.4%)\n",
            "FMM iteration 5/32: RAM usage: 11.39/16.00 GB (71.2%)\n",
            "FMM iteration 6/32: RAM usage: 11.39/16.00 GB (71.2%)\n",
            "FMM iteration 7/32: RAM usage: 11.38/16.00 GB (71.1%)\n",
            "FMM iteration 8/32: RAM usage: 11.39/16.00 GB (71.2%)\n",
            "FMM iteration 9/32: RAM usage: 11.39/16.00 GB (71.2%)\n",
            "FMM iteration 10/32: RAM usage: 11.39/16.00 GB (71.2%)\n",
            "FMM iteration 11/32: RAM usage: 11.39/16.00 GB (71.2%)\n",
            "FMM iteration 12/32: RAM usage: 11.41/16.00 GB (71.3%)\n",
            "FMM iteration 13/32: RAM usage: 11.48/16.00 GB (71.7%)\n",
            "FMM iteration 14/32: RAM usage: 11.47/16.00 GB (71.7%)\n",
            "FMM iteration 15/32: RAM usage: 11.47/16.00 GB (71.7%)\n",
            "FMM iteration 16/32: RAM usage: 11.47/16.00 GB (71.7%)\n",
            "FMM iteration 17/32: RAM usage: 11.37/16.00 GB (71.1%)\n",
            "FMM iteration 18/32: RAM usage: 11.36/16.00 GB (71.0%)\n",
            "FMM iteration 19/32: RAM usage: 11.36/16.00 GB (71.0%)\n",
            "FMM iteration 20/32: RAM usage: 11.36/16.00 GB (71.0%)\n",
            "FMM iteration 21/32: RAM usage: 11.36/16.00 GB (71.0%)\n",
            "FMM iteration 22/32: RAM usage: 11.36/16.00 GB (71.0%)\n",
            "FMM iteration 23/32: RAM usage: 11.35/16.00 GB (71.0%)\n",
            "FMM iteration 24/32: RAM usage: 11.35/16.00 GB (71.0%)\n",
            "FMM iteration 25/32: RAM usage: 11.36/16.00 GB (71.0%)\n",
            "FMM iteration 26/32: RAM usage: 11.39/16.00 GB (71.2%)\n",
            "FMM iteration 27/32: RAM usage: 11.29/16.00 GB (70.6%)\n",
            "FMM iteration 28/32: RAM usage: 11.39/16.00 GB (71.2%)\n",
            "FMM iteration 29/32: RAM usage: 11.40/16.00 GB (71.3%)\n",
            "FMM iteration 30/32: RAM usage: 11.40/16.00 GB (71.3%)\n",
            "FMM iteration 31/32: RAM usage: 11.38/16.00 GB (71.1%)\n",
            "FMM iteration 32/32: RAM usage: 11.38/16.00 GB (71.1%)\n",
            "Cost function written to data/OC1mTest_cost_function_geodesic.tif\n",
            "Geodesic distance raster written to data/OC1mTest_geodesic_distance.tif\n",
            "\n",
            "calculate_geodesic_distance completed in 17.2389 seconds\n"
          ]
        }
      ],
      "source": [
        "# geodesic distance (not needed for GeoFlood workflow)\n",
        "pgf.calculate_geodesic_distance(write_cost_function=True)"
      ]
    },
    {
      "cell_type": "code",
      "execution_count": 15,
      "metadata": {},
      "outputs": [
        {
          "name": "stdout",
          "output_type": "stream",
          "text": [
            "Locating skeleton end points\n",
            "Counting the number of elements of each connected component\n",
            "Skeleton region size threshold: 258.7368421052632\n",
            "Continuing to locate skeleton endpoints\n",
            "Channel heads shapefile written to data/OC1mTest_channel_heads.shp\n",
            "\n",
            "identify_channel_heads completed in 7.2085 seconds\n"
          ]
        }
      ],
      "source": [
        "# get channel heads (not needed for GeoFlood workflow)\n",
        "pgf.identify_channel_heads()"
      ]
    },
    {
      "cell_type": "code",
      "execution_count": 16,
      "metadata": {},
      "outputs": [
        {
          "name": "stdout",
          "output_type": "stream",
          "text": [
            "Endpoints csv written to data/OC1mTest_endpoints.csv\n",
            "\n",
            "find_endpoints completed in 0.0238 seconds\n"
          ]
        }
      ],
      "source": [
        "# get flowline endpoints\n",
        "pgf.find_endpoints()"
      ]
    },
    {
      "cell_type": "code",
      "execution_count": 17,
      "metadata": {},
      "outputs": [
        {
          "name": "stdout",
          "output_type": "stream",
          "text": [
            "Binary HAND raster written to data/OC1mTest_binary_hand.tif\n",
            "\n",
            "calculate_binary_hand completed in 3.8633 seconds\n"
          ]
        }
      ],
      "source": [
        "# get binary HAND array\n",
        "pgf.calculate_binary_hand()"
      ]
    },
    {
      "cell_type": "code",
      "execution_count": 18,
      "metadata": {},
      "outputs": [],
      "source": [
        "# # get custom flowline from NHD HR dataset (optional)\n",
        "# pgf.rasterize_custom_flowline(layer=\"NHDFlowline\")"
      ]
    },
    {
      "cell_type": "code",
      "execution_count": 19,
      "metadata": {},
      "outputs": [
        {
          "name": "stdout",
          "output_type": "stream",
          "text": [
            "Cost function weights:\n",
            "curvature          0.2520 (mean flow accumulation)\n",
            "mfd_fac            1.0000\n",
            "binary_hand        0.7500\n",
            "custom_flowline    0.0000\n",
            "\n",
            "Cost min: 0.5028838188775905\n",
            "Cost max: inf\n",
            "cost shape: (3378, 4750)\n",
            "Creating path 1/1: RAM usage: 11.53/16.00 GB (72.0%)\n",
            "Number of endpoints: 1\n",
            "Channel network raster written to data/OC1mTest_channel_network.tif\n",
            "Channel network vector written to data/OC1mTest_channel_network.shp\n",
            "\n",
            "extract_channel_network completed in 1.9566 seconds\n"
          ]
        }
      ],
      "source": [
        "# extract channel network\n",
        "pgf.extract_channel_network()"
      ]
    },
    {
      "cell_type": "code",
      "execution_count": 20,
      "metadata": {},
      "outputs": [
        {
          "name": "stdout",
          "output_type": "stream",
          "text": [
            "HAND raster written to data/OC1mTest_HAND.tif\n",
            "\n",
            "calculate_hand completed in 4.7995 seconds\n"
          ]
        }
      ],
      "source": [
        "# calculate HAND\n",
        "pgf.calculate_hand()"
      ]
    },
    {
      "cell_type": "code",
      "execution_count": 21,
      "metadata": {},
      "outputs": [
        {
          "name": "stdout",
          "output_type": "stream",
          "text": [
            "Segmented channel network written to data/OC1mTest_segmented_channel_network.shp\n",
            "\n",
            "segment_channel_network completed in 0.7987 seconds\n"
          ]
        }
      ],
      "source": [
        "# segment flowline\n",
        "pgf.segment_channel_network()"
      ]
    },
    {
      "cell_type": "code",
      "execution_count": 22,
      "metadata": {},
      "outputs": [
        {
          "name": "stdout",
          "output_type": "stream",
          "text": [
            "Segment catchments written to data/OC1mTest_segment_catchments.tif\n",
            "\n",
            "delineate_segment_catchments completed in 1.4458 seconds\n"
          ]
        }
      ],
      "source": [
        "# delineate channel network segment catchments\n",
        "pgf.delineate_segment_catchments()"
      ]
    },
    {
      "cell_type": "code",
      "execution_count": 23,
      "metadata": {},
      "outputs": [
        {
          "name": "stdout",
          "output_type": "stream",
          "text": [
            "River attributes written to data/OC1mTest_river_attributes.csv\n",
            "Synthetic rating curves written to data/OC1mTest_src.csv\n",
            "\n",
            "calculate_src completed in 5.1691 seconds\n"
          ]
        }
      ],
      "source": [
        "# calculate synthetic rating curves table\n",
        "pgf.calculate_src()"
      ]
    },
    {
      "cell_type": "code",
      "execution_count": 1,
      "metadata": {},
      "outputs": [
        {
          "name": "stdout",
          "output_type": "stream",
          "text": [
            "Applying custom streamflow to each segment: 500 cms\n",
            "Flood stages written to data/OC1mTest_flood_stage.csv\n",
            "\n",
            "calculate_flood_stage completed in 0.0058 seconds\n"
          ]
        }
      ],
      "source": [
        "# calculate flood stage from synthetic rating curves\n",
        "# pgf.streamflow_forecast_path must be set or custom_Q must be provided\n",
        "pgf.calculate_flood_stage(custom_Q=500)"
      ]
    },
    {
      "cell_type": "code",
      "execution_count": null,
      "metadata": {},
      "outputs": [],
      "source": [
        "pgf.to_paths('data/paths.txt')"
      ]
    }
  ],
  "metadata": {
    "colab": {
      "authorship_tag": "ABX9TyMNCi84+7QiD4ra1kbkEbpz",
      "include_colab_link": true,
      "provenance": []
    },
    "kernelspec": {
      "display_name": "Python 3",
      "name": "python3"
    },
    "language_info": {
      "codemirror_mode": {
        "name": "ipython",
        "version": 3
      },
      "file_extension": ".py",
      "mimetype": "text/x-python",
      "name": "python",
      "nbconvert_exporter": "python",
      "pygments_lexer": "ipython3",
      "version": "3.11.8"
    }
  },
  "nbformat": 4,
  "nbformat_minor": 0
}
