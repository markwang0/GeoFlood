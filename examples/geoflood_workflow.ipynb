{
  "nbformat": 4,
  "nbformat_minor": 0,
  "metadata": {
    "colab": {
      "provenance": [],
      "authorship_tag": "ABX9TyMNCi84+7QiD4ra1kbkEbpz",
      "include_colab_link": true
    },
    "kernelspec": {
      "name": "python3",
      "display_name": "Python 3"
    },
    "language_info": {
      "name": "python"
    }
  },
  "cells": [
    {
      "cell_type": "markdown",
      "metadata": {
        "id": "view-in-github",
        "colab_type": "text"
      },
      "source": [
        "<a href=\"https://colab.research.google.com/github/markwang0/GeoFlood/blob/WIP-pygeoflood-class/examples/geoflood_workflow.ipynb\" target=\"_parent\"><img src=\"https://colab.research.google.com/assets/colab-badge.svg\" alt=\"Open In Colab\"/></a>"
      ]
    },
    {
      "cell_type": "markdown",
      "source": [
        "### Install in-development branch of GeoFlood"
      ],
      "metadata": {
        "id": "XLAMdHHaIKmK"
      }
    },
    {
      "cell_type": "code",
      "execution_count": 1,
      "metadata": {
        "id": "ceL8_amKGc0C"
      },
      "outputs": [],
      "source": [
        "%%capture\n",
        "!pip install git+https://github.com/markwang0/geoflood@WIP-pygeoflood-class"
      ]
    },
    {
      "cell_type": "markdown",
      "source": [
        "### Download `OC1mTest.tif` and upload it to this runtime's file system in the `/content` directory\n",
        "https://utexas.box.com/s/d6j0oy0cw2fwg0mp8w60aw9rljw880t0"
      ],
      "metadata": {
        "id": "io4PfomvIRAa"
      }
    },
    {
      "cell_type": "markdown",
      "source": [
        "### Run GeoFlood operations"
      ],
      "metadata": {
        "id": "Bs031yHfIwQK"
      }
    },
    {
      "cell_type": "code",
      "source": [
        "# import Pygeoflood class\n",
        "from pygeoflood import Pygeoflood\n",
        "\n",
        "# set path to DEM\n",
        "my_dem_path = \"/content/OC1mTest.tif\"\n",
        "\n",
        "# instantiate pygeoflood object with path to DEM\n",
        "my_geoflood_model = Pygeoflood(dem_path=my_dem_path)\n",
        "# only nonlinear filter implemented so far\n",
        "my_geoflood_model.run_nonlinear_filter()\n",
        "\n",
        "# the Perona-Malik filtered DEM is saved as [DEM_name]_PM_filtered.tif\n",
        "# in same directory as the original DEM"
      ],
      "metadata": {
        "colab": {
          "base_uri": "https://localhost:8080/"
        },
        "id": "T0qqWhJxGgxp",
        "outputId": "b3ac4b62-c78d-41bf-8996-64697bf6354b"
      },
      "execution_count": 5,
      "outputs": [
        {
          "output_type": "stream",
          "name": "stdout",
          "text": [
            "Computing slope of raw DTM\n",
            "DEM slope array shape: (3378, 4750)\n",
            "Computing lambda = q-q-based nonlinear filtering threshold\n",
            "('dem smoothing Quantile', 0.9)\n",
            "('edgeThresholdValue:', 0.34356024861335754)\n",
            "time taken to complete nonlinear filtering: 10.0 seconds\n"
          ]
        }
      ]
    },
    {
      "cell_type": "code",
      "source": [],
      "metadata": {
        "id": "wwFMpjfcI8F6"
      },
      "execution_count": null,
      "outputs": []
    }
  ]
}